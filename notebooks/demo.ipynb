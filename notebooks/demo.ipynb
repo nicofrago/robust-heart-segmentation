{
 "cells": [
  {
   "cell_type": "code",
   "execution_count": 2,
   "metadata": {},
   "outputs": [],
   "source": [
    "import sys\n",
    "sys.path.append('..')\n",
    "\n",
    "import torch\n",
    "from torch.utils.data import DataLoader\n",
    "\n",
    "from src.train import CombinedLoss, train, MedicalScanDataset\n",
    "from src.models.transunet.TransAttUnet import UNet_Attention_Transformer_Multiscale\n",
    "from src.models.unet import UNet\n",
    "from src.evaluate import evaluate_model\n",
    "\n",
    "NUM_CLASSES = 8\n",
    "BATCH_SIZE = 16\n",
    "EPOCH_COUNT = 15\n",
    "INITIAL_LR = 1e-4"
   ]
  },
  {
   "cell_type": "markdown",
   "metadata": {},
   "source": [
    "#### Initialize data"
   ]
  },
  {
   "cell_type": "code",
   "execution_count": null,
   "metadata": {},
   "outputs": [],
   "source": [
    "device = torch.device('cuda' if torch.cuda.is_available() else 'cpu')\n",
    "\n",
    "# Load training and validation data\n",
    "data_dir = \"pack/processed_data\"\n",
    "train_data = MedicalScanDataset(f'{data_dir}/ct_256/train/npz/')\n",
    "\n",
    "valid_data = MedicalScanDataset(f'{data_dir}/ct_256/val/npz/')\n",
    "test_data = MedicalScanDataset(f'{data_dir}/ct_256/test/npz/')\n",
    "\n",
    "train_loader = DataLoader(\n",
    "    train_data, batch_size=BATCH_SIZE, shuffle=True, num_workers=0\n",
    ")\n",
    "valid_loader = DataLoader(\n",
    "    valid_data, batch_size=BATCH_SIZE, shuffle=False, num_workers=0\n",
    ")\n",
    "test_loader = DataLoader(\n",
    "    test_data, batch_size=BATCH_SIZE, shuffle=False, num_workers=0\n",
    ")"
   ]
  },
  {
   "cell_type": "markdown",
   "metadata": {},
   "source": [
    "### Load and train model"
   ]
  },
  {
   "cell_type": "code",
   "execution_count": null,
   "metadata": {},
   "outputs": [],
   "source": [
    "# Load model\n",
    "model = UNet_Attention_Transformer_Multiscale(1, NUM_CLASSES, output_attention=False)\n",
    "model.to(device)\n",
    "\n",
    "# Train model\n",
    "loss_function = CombinedLoss(n_classes=NUM_CLASSES)\n",
    "optimizer = torch.optim.Adam(model.parameters(), lr=INITIAL_LR)\n",
    "model = train(\n",
    "    model, \n",
    "    loss_function, \n",
    "    optimizer, \n",
    "    train_loader, \n",
    "    valid_loader, \n",
    "    test_loader, \n",
    "    EPOCH_COUNT, \n",
    "    NUM_CLASSES, \n",
    "    p_adversial=0.3, \n",
    "    output_attention=False\n",
    ")"
   ]
  },
  {
   "cell_type": "markdown",
   "metadata": {},
   "source": [
    "### Test model"
   ]
  },
  {
   "cell_type": "code",
   "execution_count": null,
   "metadata": {},
   "outputs": [],
   "source": [
    "# Test model\n",
    "odel = UNet(input_channels=1, num_classes=NUM_CLASSES).to(device)\n",
    "wpth = 'weights/model_weights.pth'\n",
    "model.load_state_dict(torch.load(wpth))\n",
    "model.to(device)\n",
    "model.eval()\n",
    "loss_function = CombinedLoss(n_classes=NUM_CLASSES)\n",
    "test_dice, test_loss = evaluate_model(\n",
    "    model, \n",
    "    test_loader, \n",
    "    loss_function, \n",
    "    NUM_CLASSES, \n",
    "    adversarial='DAG', \n",
    "    epsilon=0.01, \n",
    "    adv_iterations=5\n",
    ")\n",
    "print(f'Test Loss: {test_loss:.4f} | Test Dice: {test_dice:.4f}')"
   ]
  }
 ],
 "metadata": {
  "kernelspec": {
   "display_name": "Python 3",
   "language": "python",
   "name": "python3"
  },
  "language_info": {
   "codemirror_mode": {
    "name": "ipython",
    "version": 3
   },
   "file_extension": ".py",
   "mimetype": "text/x-python",
   "name": "python",
   "nbconvert_exporter": "python",
   "pygments_lexer": "ipython3",
   "version": "3.11.6"
  }
 },
 "nbformat": 4,
 "nbformat_minor": 2
}
