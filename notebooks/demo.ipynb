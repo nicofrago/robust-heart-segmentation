{
 "cells": [
  {
   "cell_type": "code",
   "execution_count": null,
   "metadata": {},
   "outputs": [],
   "source": [
    "import torch\n",
    "from torch.utils.data import DataLoader\n",
    "from train import CombinedLoss, train, MedicalScanDataset\n",
    "from models.transunet.TransAttUnet import UNet_Attention_Transformer_Multiscale\n",
    "from models.unet import UNet\n",
    "from evaluate import evaluate_model\n",
    "NUM_CLASSES = 8\n",
    "BATCH_SIZE = 16\n",
    "EPOCH_COUNT = 15\n",
    "INITIAL_LR = 1e-4"
   ]
  },
  {
   "cell_type": "code",
   "execution_count": null,
   "metadata": {},
   "outputs": [],
   "source": [
    "device = torch.device('cuda' if torch.cuda.is_available() else 'cpu')\n",
    "data_dir = \"pack/processed_data\"\n",
    "train_data = MedicalScanDataset(f'{data_dir}/ct_256/train/npz/')\n",
    "\n",
    "valid_data = MedicalScanDataset(f'{data_dir}/ct_256/val/npz/')\n",
    "test_data = MedicalScanDataset(f'{data_dir}/ct_256/test/npz/')\n",
    "\n",
    "train_loader = DataLoader(train_data, batch_size=BATCH_SIZE, shuffle=True, num_workers=0)\n",
    "valid_loader = DataLoader(valid_data, batch_size=BATCH_SIZE, shuffle=False, num_workers=0)\n",
    "test_loader = DataLoader(test_data, batch_size=BATCH_SIZE, shuffle=False, num_workers=0)"
   ]
  },
  {
   "cell_type": "code",
   "execution_count": null,
   "metadata": {},
   "outputs": [],
   "source": [
    "device = torch.device('cuda' if torch.cuda.is_available() else 'cpu')\n",
    "model = UNet_Attention_Transformer_Multiscale(1, NUM_CLASSES, output_attention=False)\n",
    "model.to(device)\n",
    "\n",
    "loss_function = CombinedLoss(n_classes=NUM_CLASSES)\n",
    "optimizer = torch.optim.Adam(model.parameters(), lr=INITIAL_LR)\n",
    "model = train(model, loss_function, optimizer, train_loader, valid_loader, test_loader, EPOCH_COUNT, NUM_CLASSES, p_adversial=0.3, output_attention=False)"
   ]
  },
  {
   "cell_type": "code",
   "execution_count": null,
   "metadata": {},
   "outputs": [],
   "source": [
    "model = UNet(input_channels=1, num_classes=NUM_CLASSES).to(device)\n",
    "wpth = 'weights/model_weights.pth'\n",
    "model.load_state_dict(torch.load(wpth))\n",
    "model.to(device)\n",
    "model.eval()\n",
    "loss_function = CombinedLoss(n_classes=NUM_CLASSES)\n",
    "test_dice, test_loss = evaluate_model(model, test_loader, loss_function, NUM_CLASSES, adversarial='DAG', epsilon=0.01, adv_iterations=5)\n",
    "print(f'Test Loss: {test_loss:.4f} | Test Dice: {test_dice:.4f}')"
   ]
  },
  {
   "cell_type": "code",
   "execution_count": null,
   "metadata": {},
   "outputs": [],
   "source": []
  }
 ],
 "metadata": {
  "kernelspec": {
   "display_name": "base",
   "language": "python",
   "name": "python3"
  },
  "language_info": {
   "codemirror_mode": {
    "name": "ipython",
    "version": 3
   },
   "file_extension": ".py",
   "mimetype": "text/x-python",
   "name": "python",
   "nbconvert_exporter": "python",
   "pygments_lexer": "ipython3",
   "version": "3.12.3"
  }
 },
 "nbformat": 4,
 "nbformat_minor": 2
}
